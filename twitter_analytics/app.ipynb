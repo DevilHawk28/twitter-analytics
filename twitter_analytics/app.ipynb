{
 "cells": [
  {
   "cell_type": "code",
   "execution_count": 4,
   "id": "004f1b40",
   "metadata": {},
   "outputs": [
    {
     "name": "stdout",
     "output_type": "stream",
     "text": [
      " * Serving Flask app '__main__'\n",
      " * Debug mode: on\n"
     ]
    },
    {
     "name": "stderr",
     "output_type": "stream",
     "text": [
      "WARNING: This is a development server. Do not use it in a production deployment. Use a production WSGI server instead.\n",
      " * Running on http://127.0.0.1:5000\n",
      "Press CTRL+C to quit\n",
      " * Restarting with watchdog (windowsapi)\n"
     ]
    },
    {
     "ename": "SystemExit",
     "evalue": "1",
     "output_type": "error",
     "traceback": [
      "An exception has occurred, use %tb to see the full traceback.\n",
      "\u001b[1;31mSystemExit\u001b[0m\u001b[1;31m:\u001b[0m 1\n"
     ]
    }
   ],
   "source": [
    "from flask import Flask, request, jsonify\n",
    "from pymongo import MongoClient\n",
    "\n",
    "# Initialize Flask app\n",
    "app = Flask(__name__)\n",
    "\n",
    "# Connect to MongoDB\n",
    "client = MongoClient('mongodb://localhost:27017/')\n",
    "db = client['twitter_db']\n",
    "tweets_collection = db['tweets']\n",
    "\n",
    "# Query: Tweets per day\n",
    "@app.route('/tweets_per_day', methods=['GET'])\n",
    "def tweets_per_day():\n",
    "    term = request.args.get('term', '')  # Get the search term from the request\n",
    "    if term:\n",
    "        results = list(tweets_collection.aggregate([\n",
    "            {\"$match\": {\"text\": {\"$regex\": term, \"$options\": \"i\"}}},\n",
    "            {\"$group\": {\"_id\": {\"$substr\": [\"$created_at\", 0, 10]}, \"count\": {\"$sum\": 1}}}\n",
    "        ]))\n",
    "        return jsonify(results)\n",
    "    return jsonify({\"error\": \"Please provide a valid search term\"}), 400\n",
    "\n",
    "# Query: Unique users posting the term\n",
    "@app.route('/unique_users', methods=['GET'])\n",
    "def unique_users():\n",
    "    term = request.args.get('term', '')  # Get the search term from the request\n",
    "    if term:\n",
    "        users_count = len(tweets_collection.distinct(\"user_id_str\", {\"text\": {\"$regex\": term, \"$options\": \"i\"}}))\n",
    "        return jsonify({\"unique_users\": users_count})\n",
    "    return jsonify({\"error\": \"Please provide a valid search term\"}), 400\n",
    "\n",
    "# Query: Average likes for tweets containing the term\n",
    "@app.route('/avg_likes', methods=['GET'])\n",
    "def avg_likes():\n",
    "    term = request.args.get('term', '')  # Get the search term from the request\n",
    "    if term:\n",
    "        result = list(tweets_collection.aggregate([\n",
    "            {\"$match\": {\"text\": {\"$regex\": term, \"$options\": \"i\"}}},\n",
    "            {\"$group\": {\"_id\": None, \"avg_likes\": {\"$avg\": \"$favorite_count\"}}}\n",
    "        ]))\n",
    "        if result:\n",
    "            return jsonify(result[0])\n",
    "        return jsonify({\"avg_likes\": 0})\n",
    "    return jsonify({\"error\": \"Please provide a valid search term\"}), 400\n",
    "\n",
    "# Home route to display available endpoints\n",
    "@app.route('/')\n",
    "def home():\n",
    "    return \"\"\"\n",
    "    <h1>Twitter Data Analytics API</h1>\n",
    "    <p>Use the following endpoints:</p>\n",
    "    <ul>\n",
    "        <li>/tweets_per_day?term=YOUR_TERM</li>\n",
    "        <li>/unique_users?term=YOUR_TERM</li>\n",
    "        <li>/avg_likes?term=YOUR_TERM</li>\n",
    "    </ul>\n",
    "    \"\"\"\n",
    "\n",
    "if __name__ == '__main__':\n",
    "    app.run(debug=True)"
   ]
  },
  {
   "cell_type": "code",
   "execution_count": null,
   "id": "4a6dc916",
   "metadata": {},
   "outputs": [],
   "source": []
  }
 ],
 "metadata": {
  "kernelspec": {
   "display_name": "Python 3 (ipykernel)",
   "language": "python",
   "name": "python3"
  },
  "language_info": {
   "codemirror_mode": {
    "name": "ipython",
    "version": 3
   },
   "file_extension": ".py",
   "mimetype": "text/x-python",
   "name": "python",
   "nbconvert_exporter": "python",
   "pygments_lexer": "ipython3",
   "version": "3.11.5"
  }
 },
 "nbformat": 4,
 "nbformat_minor": 5
}
